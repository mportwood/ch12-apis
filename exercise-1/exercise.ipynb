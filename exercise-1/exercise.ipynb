{
 "cells": [
  {
   "cell_type": "markdown",
   "metadata": {},
   "source": [
    "# Exercise 1\n",
    "Add the specified code for each code cell, running the cells _in order_."
   ]
  },
  {
   "cell_type": "markdown",
   "metadata": {},
   "source": [
    "In this exercise, you'll be accessing data from the [Github API](https://developer.github.com/v3/). You will need to read the documentation at **<https://developer.github.com/v3/>** in order to discover appropriate endpoints, their parameters, and their schemas. (Categories of endpoints are listed on the right, with multiple endpoints described per page)."
   ]
  },
  {
   "cell_type": "markdown",
   "metadata": {},
   "source": [
    "First, import the **`requests`** module for accessing web data."
   ]
  },
  {
   "cell_type": "code",
   "execution_count": null,
   "metadata": {},
   "outputs": [],
   "source": [
    "import requests"
   ]
  },
  {
   "cell_type": "markdown",
   "metadata": {},
   "source": [
    "Create a variable **`base_uri`** that stores the base URI (as a string) for the Github API (`https://api.github.com`)"
   ]
  },
  {
   "cell_type": "code",
   "execution_count": null,
   "metadata": {},
   "outputs": [],
   "source": [
    "base_uri = \"https://api.github.com\""
   ]
  },
  {
   "cell_type": "markdown",
   "metadata": {},
   "source": [
    "Under the \"Repositories\" category of the API documentation, find the endpoint that will list _repos in an organization._ Then create a variable **`org_resource`** that stores the endpoint for the `infx511` organization repos (this is the _path_ to the resource of interest).\n",
    "- (FYI: this is where we keep the book code and master exercise sets!)"
   ]
  },
  {
   "cell_type": "code",
   "execution_count": null,
   "metadata": {},
   "outputs": [],
   "source": [
    "org_resource = \"/orgs/imt511a-wi19/repos\""
   ]
  },
  {
   "cell_type": "markdown",
   "metadata": {},
   "source": [
    "Send a `get()` request to this endpoint (the `base_uri` followed by the `org_resource` path). Print the response's `status_code` and `url` to show that your request worked worked. (This will also allow you to inspect the JSON in the browser easily)."
   ]
  },
  {
   "cell_type": "code",
   "execution_count": null,
   "metadata": {},
   "outputs": [],
   "source": [
    "response = requests.get(base_uri+org_resource)\n",
    "print(response.status_code)\n",
    "print(response.url)"
   ]
  },
  {
   "cell_type": "markdown",
   "metadata": {},
   "source": [
    "Access the response's JSON content as a Python _list_. How many repositories does the organization have? (e.g., how many items are in the list?)"
   ]
  },
  {
   "cell_type": "code",
   "execution_count": null,
   "metadata": {},
   "outputs": [],
   "source": [
    "data = response.json()\n",
    "type(data) #It's a list!\n",
    "print(len(data)) #just public stuff\n",
    "\n",
    "##EXTRA: Find all the names of items in this list...\n",
    "##How? We have a list of dictionaries. How do I get from a list of \n",
    "##Dictionaries to a list of names? Map? List Comprehension? \n",
    "\n",
    "##For each dictionary return the name\n",
    "[repo_dict['name'] for repo_dict in data]"
   ]
  },
  {
   "cell_type": "markdown",
   "metadata": {},
   "source": [
    "Create a variable **`search_endpoint`** that stores the endpoint used to search for repositories."
   ]
  },
  {
   "cell_type": "code",
   "execution_count": null,
   "metadata": {},
   "outputs": [],
   "source": [
    "##Exercise in reading documentation\n",
    "##What category? Check documentation\n",
    "##Search? Seems good. Repositories?\n",
    "\n",
    "search_endpoint = \"/search/repositories\""
   ]
  },
  {
   "cell_type": "markdown",
   "metadata": {},
   "source": [
    "Use the `search_endpoint` to search for repositories about _\"visualization\"_. Access the response's JSON content, saving that data in a variable (e.g., `vis_repos`)."
   ]
  },
  {
   "cell_type": "code",
   "execution_count": null,
   "metadata": {},
   "outputs": [],
   "source": [
    "#In order to specify query paramaters, we'll need a \n",
    "# dictionary of those query params\n",
    "\n",
    "query_params = {'q': 'visualization'}\n",
    "response = requests.get(base_uri + search_endpoint, params = query_params)\n",
    "\n",
    "#Now let's get our viz repos from the response\n",
    "viz_repos = response.json()\n",
    "\n",
    "##Q/A: This is searching titles and descriptions"
   ]
  },
  {
   "cell_type": "markdown",
   "metadata": {},
   "source": [
    "Print how many repositories your search returned. (Hint: yuo can first check the dictionary keys for the information you want)."
   ]
  },
  {
   "cell_type": "code",
   "execution_count": null,
   "metadata": {},
   "outputs": [],
   "source": [
    "#is there a key that tells me the count of things? \n",
    "viz_repos.keys()\n",
    "print(viz_repos['total_count'])"
   ]
  },
  {
   "cell_type": "markdown",
   "metadata": {},
   "source": [
    "Print out the \"full name\" (i.e., the user and repo name) of the top result from your search."
   ]
  },
  {
   "cell_type": "code",
   "execution_count": null,
   "metadata": {},
   "outputs": [],
   "source": [
    "viz_repos['items'][0]['full_name']"
   ]
  },
  {
   "cell_type": "markdown",
   "metadata": {},
   "source": [
    "_Challenge_: Use the GitHub API to get a list of the contributors to the **`python/cpython`** repository (the source code for the Python programming language!) and the number of commits they've made. This will be a really big response with lots of data! Check the schema description to understand how to navigate it."
   ]
  },
  {
   "cell_type": "code",
   "execution_count": null,
   "metadata": {},
   "outputs": [],
   "source": [
    "##!!!!!!!!!!!!!!!\n",
    "##Let them try this and then show them\n",
    "contrib_endpoint = '/repos/python/cpython/stats/contributors'\n",
    "response = requests.get(base_uri + contrib_endpoint)\n",
    "contributors = response.json()\n",
    "# print(contributors[0])\n",
    "\n",
    "#Ask them...\n",
    "#What is the object of interest????????\n",
    "print(contributors[0]['author']['login']) #etrepum\n",
    "\n",
    "\n",
    "##IOPub data rate exceeded.\n",
    "##https://github.com/jupyter/notebook/issues/2287"
   ]
  },
  {
   "cell_type": "markdown",
   "metadata": {},
   "source": [
    "Who were the top 10 contributors in terms of total commits (and how many commits did each make)? _Hint:_ use a list comprehension to _map_ and _filter_ the list for the information you care about, then sort it in descending order by commit count, then output the top 10 items."
   ]
  },
  {
   "cell_type": "code",
   "execution_count": null,
   "metadata": {},
   "outputs": [],
   "source": [
    "##An example of list comprension that does several things. \n",
    "#1. sorts\n",
    "#2. pulls in two data elements of interest\n",
    "\n",
    "contributor_counts = sorted([(item['total'], item['author']['login']) for item in contributors], reverse=True)\n",
    "top_ten = contributor_counts[:10]\n",
    "top_ten\n",
    "\n",
    "\n",
    "##This \"sorted\" bit is important for the homework!!!! a5, I'll give another example in the hw help"
   ]
  },
  {
   "cell_type": "code",
   "execution_count": null,
   "metadata": {},
   "outputs": [],
   "source": []
  }
 ],
 "metadata": {
  "kernelspec": {
   "display_name": "Python 3",
   "language": "python",
   "name": "python3"
  },
  "language_info": {
   "codemirror_mode": {
    "name": "ipython",
    "version": 3
   },
   "file_extension": ".py",
   "mimetype": "text/x-python",
   "name": "python",
   "nbconvert_exporter": "python",
   "pygments_lexer": "ipython3",
   "version": "3.7.1"
  },
  "toc": {
   "colors": {
    "hover_highlight": "#DAA520",
    "running_highlight": "#FF0000",
    "selected_highlight": "#FFD700"
   },
   "moveMenuLeft": true,
   "nav_menu": {
    "height": "30px",
    "width": "252px"
   },
   "navigate_menu": true,
   "number_sections": true,
   "sideBar": true,
   "threshold": 4,
   "toc_cell": false,
   "toc_section_display": "block",
   "toc_window_display": false,
   "widenNotebook": false
  }
 },
 "nbformat": 4,
 "nbformat_minor": 2
}

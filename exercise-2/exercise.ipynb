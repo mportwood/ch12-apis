{
 "cells": [
  {
   "cell_type": "markdown",
   "metadata": {},
   "source": [
    "# Exercise 2\n",
    "Add the specified code for each code cell, running the cells _in order_."
   ]
  },
  {
   "cell_type": "markdown",
   "metadata": {},
   "source": [
    "In this exercise, you'll practice working with a data API: specifically, the [New York Times API](https://developer.nytimes.com/) for movie reviews. To learn more about the API, see the [developer console](https://developer.nytimes.com/movie_reviews_v2.json)."
   ]
  },
  {
   "cell_type": "markdown",
   "metadata": {},
   "source": [
    "You will need to register with the NYT site at **<https://developer.nytimes.com/signup>** in order to get an API Key. Fill out the form (you can use fake information and a single-use email if you wish). Under \"API\" select **\"Movie Reviews API\"** (and note other APIs available for future projects)! The API key should be emailed to you once you sign up.\n",
    "\n",
    "In order to utilize this key in your script, create a **separate* Python script called `apikey.py` inside this directory (the one with this Jupyter notebook). Assign the key that was emailed to you to a variable:\n",
    "\n",
    "```python\n",
    "nyt_apikey = \"123456789abcdefg\"\n",
    "```\n",
    "\n",
    "You should also modify the included `.gitignore` file inside the directory to list your `apikey.py` script so that it doesn't get committed!"
   ]
  },
  {
   "cell_type": "markdown",
   "metadata": {},
   "source": [
    "Import your `nyt_apikey` variable from your `apikey` script. Print out the _length_ of the key (but not the key itself!) to confirm that it has been imported."
   ]
  },
  {
   "cell_type": "code",
   "execution_count": 3,
   "metadata": {},
   "outputs": [
    {
     "name": "stdout",
     "output_type": "stream",
     "text": [
      "32\n"
     ]
    }
   ],
   "source": [
    "##Update \"developer console\" link above: https://developer.nytimes.com/docs/movie-reviews-api/1/overview\n",
    "\n",
    "##Try running without first, get the error, \n",
    "## Call out, need to actually create the file. Don't do it manually\n",
    "## \"use command line!\" then in the command line demonstrate: \n",
    "\n",
    "#echo \"nyt_apikey = '...akikey...'\" > apikey.py\n",
    "\n",
    "\n",
    "##article on hiding your gitignore file: http://www.blacktechdiva.com/hide-api-keys/\n",
    "from apikey import nyt_apikey\n",
    "print(len(nyt_apikey))"
   ]
  },
  {
   "cell_type": "markdown",
   "metadata": {},
   "source": [
    "Create a variable **`movie_name`** that contains the name of a movie of your choice."
   ]
  },
  {
   "cell_type": "code",
   "execution_count": 4,
   "metadata": {},
   "outputs": [],
   "source": [
    "movie_name = \"Reservoir Dogs\""
   ]
  },
  {
   "cell_type": "markdown",
   "metadata": {},
   "source": [
    "Construct an HTTP request to search for reviews for that movie. \n",
    "- The base URI is `https://api.nytimes.com/svc/movies/v2/` \n",
    "- The resource is `reviews/search.json`\n",
    "- Your request will need two query parameters: the movie name as the `query` and YOUR api key as the `api-key` parameter.\n",
    "\n",
    "Then send the HTTP request and output its `status_code` to demonstrate that it worked."
   ]
  },
  {
   "cell_type": "code",
   "execution_count": 5,
   "metadata": {},
   "outputs": [
    {
     "data": {
      "text/plain": [
       "200"
      ]
     },
     "execution_count": 5,
     "metadata": {},
     "output_type": "execute_result"
    }
   ],
   "source": [
    "import requests\n",
    "base_uri = \"https://api.nytimes.com/svc/movies/v2/\"\n",
    "resource = \"reviews/search.json\"\n",
    "query_params = {'query': movie_name, 'api-key': nyt_apikey}\n",
    "\n",
    "response = requests.get(base_uri + resource, params = query_params)\n",
    "response.status_code"
   ]
  },
  {
   "cell_type": "markdown",
   "metadata": {},
   "source": [
    "Access the response JSON content as a Python data structure, saving it as a variable (e.g., `data`). Use the `type()` function to determine if the content is a list or a dictionary."
   ]
  },
  {
   "cell_type": "code",
   "execution_count": 6,
   "metadata": {},
   "outputs": [
    {
     "data": {
      "text/plain": [
       "dict"
      ]
     },
     "execution_count": 6,
     "metadata": {},
     "output_type": "execute_result"
    }
   ],
   "source": [
    "data = response.json()\n",
    "type(data)"
   ]
  },
  {
   "cell_type": "markdown",
   "metadata": {},
   "source": [
    "Since the `data` is a dictionary, check its keys and identify the one with the value of interest&mdash;where is the _list of dictionaries_ with movie review data? Store the first item from that list in a variable `movie_review` and print it out."
   ]
  },
  {
   "cell_type": "code",
   "execution_count": 7,
   "metadata": {},
   "outputs": [
    {
     "name": "stdout",
     "output_type": "stream",
     "text": [
      "{'display_title': 'Reservoir Dogs', 'mpaa_rating': '', 'critics_pick': 0, 'byline': 'Vincent Canby', 'headline': 'RESERVOIR DOGS (MOVIE)', 'summary_short': 'Crooks regroup at warehouse after heist. Brutal and dazzling, via Tarantino.', 'publication_date': '1992-10-23', 'opening_date': None, 'date_updated': '2017-11-02 04:16:11', 'link': {'type': 'article', 'url': 'http://www.nytimes.com/1992/10/23/movies/review-film-a-caper-goes-wrong-resoundingly.html', 'suggested_link_text': 'Read the New York Times Review of Reservoir Dogs'}, 'multimedia': None}\n"
     ]
    }
   ],
   "source": [
    "data.keys()\n",
    "movie_review = data['results'][0]\n",
    "print(movie_review)"
   ]
  },
  {
   "cell_type": "markdown",
   "metadata": {},
   "source": [
    "Print out the _headline_, _short summary_, and a _link to the full article_ of the `movie_review`."
   ]
  },
  {
   "cell_type": "code",
   "execution_count": 8,
   "metadata": {},
   "outputs": [
    {
     "name": "stdout",
     "output_type": "stream",
     "text": [
      "RESERVOIR DOGS (MOVIE)\n",
      "Crooks regroup at warehouse after heist. Brutal and dazzling, via Tarantino.\n",
      "http://www.nytimes.com/1992/10/23/movies/review-film-a-caper-goes-wrong-resoundingly.html\n"
     ]
    }
   ],
   "source": [
    "print(movie_review['headline'])\n",
    "print(movie_review['summary_short'])\n",
    "print(movie_review['link']['url'])"
   ]
  },
  {
   "cell_type": "code",
   "execution_count": null,
   "metadata": {},
   "outputs": [],
   "source": []
  }
 ],
 "metadata": {
  "kernelspec": {
   "display_name": "Python 3",
   "language": "python",
   "name": "python3"
  },
  "language_info": {
   "codemirror_mode": {
    "name": "ipython",
    "version": 3
   },
   "file_extension": ".py",
   "mimetype": "text/x-python",
   "name": "python",
   "nbconvert_exporter": "python",
   "pygments_lexer": "ipython3",
   "version": "3.7.1"
  },
  "toc": {
   "colors": {
    "hover_highlight": "#DAA520",
    "running_highlight": "#FF0000",
    "selected_highlight": "#FFD700"
   },
   "moveMenuLeft": true,
   "nav_menu": {
    "height": "30px",
    "width": "252px"
   },
   "navigate_menu": true,
   "number_sections": true,
   "sideBar": true,
   "threshold": 4,
   "toc_cell": false,
   "toc_section_display": "block",
   "toc_window_display": false,
   "widenNotebook": false
  }
 },
 "nbformat": 4,
 "nbformat_minor": 2
}
